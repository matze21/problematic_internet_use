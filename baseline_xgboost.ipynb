{
 "cells": [
  {
   "cell_type": "code",
   "execution_count": null,
   "metadata": {},
   "outputs": [],
   "source": [
    "import numpy as np\n",
    "import pandas as pd\n",
    "from sklearn.model_selection import train_test_split\n",
    "from sklearn.metrics import cohen_kappa_score\n",
    "import xgboost as xgb\n",
    "from sklearn.utils import compute_sample_weight"
   ]
  },
  {
   "cell_type": "code",
   "execution_count": null,
   "metadata": {},
   "outputs": [],
   "source": [
    "test = pd.read_csv('test.csv')\n",
    "feat = test.columns\n",
    "train = pd.read_csv('train.csv')\n",
    "train = train.loc[~train.sii.isna()]\n",
    "object_columns = train.select_dtypes(include=['object']).columns\n",
    "\n",
    "# Create a dictionary mapping object columns to 'category' dtype\n",
    "dtype_dict = {col: 'category' for col in object_columns}\n",
    "\n",
    "# Convert object columns to categorical\n",
    "train = train.astype(dtype_dict)\n",
    "train.dtypes"
   ]
  },
  {
   "cell_type": "code",
   "execution_count": null,
   "metadata": {},
   "outputs": [],
   "source": [
    "# Assuming you have your data in X (features) and y (target)\n",
    "X = train[feat]\n",
    "y = train['sii']\n",
    "\n",
    "# Split the data\n",
    "X_train, X_test, y_train, y_test = train_test_split(X, y, test_size=0.5, random_state=42)\n",
    "sample_weights = compute_sample_weight('balanced', y_train)\n",
    "\n",
    "# Define quadratic weighted kappa objective function\n",
    "def qwk_objective(y_true, y_pred):\n",
    "    print(y_true.shape)\n",
    "    y_true = np.argmax(y_true, axis=1)\n",
    "    y_pred = np.argmax(y_pred, axis=1)\n",
    "    kappa = cohen_kappa_score(y_true, y_pred, weights='quadratic')\n",
    "    return 'qwk', -kappa  # Negative because XGBoost minimizes the objective\n",
    "\n",
    "# Convert data to DMatrix format\n",
    "dtrain = xgb.DMatrix(X_train, label=y_train,enable_categorical=True,weight=sample_weights)\n",
    "dtest = xgb.DMatrix(X_test, label=y_test,enable_categorical=True)\n",
    "\n",
    "# Set XGBoost parameters\n",
    "params = {\n",
    "    'max_depth': 4,\n",
    "    'eta': 0.1,\n",
    "    #'subsample':0.2,\n",
    "    'objective': 'multi:softmax',#qwk_objective,\n",
    "    'num_class': len(np.unique(y)),  # number of classes\n",
    "    'eval_metric': 'mlogloss',#qwk_metric\n",
    "    \"tree_method\": \"hist\",\n",
    "    #\"disable_default_eval_metric\": 1\n",
    "}\n",
    "\n",
    "# Train the model\n",
    "num_rounds = 100\n",
    "watchlist = [(dtrain, 'train'), (dtest, 'test')]\n",
    "model = xgb.train(params, dtrain, num_rounds, watchlist,\n",
    "                  #feval=qwk_objective, \n",
    "                  early_stopping_rounds=10, verbose_eval=2)\n",
    "\n",
    "# Make predictions\n",
    "y_train_pred = model.predict(dtrain)\n",
    "y_test_pred = model.predict(dtest)\n",
    "\n",
    "# Convert predictions to class labels\n",
    "#y_train_pred = np.argmax(y_train_pred, axis=1)\n",
    "#y_test_pred = np.argmax(y_test_pred, axis=1)\n",
    "\n",
    "# Evaluate final performance\n",
    "train_qwk = cohen_kappa_score(y_train, y_train_pred, weights='quadratic')\n",
    "test_qwk = cohen_kappa_score(y_test, y_test_pred, weights='quadratic')\n",
    "\n",
    "print(f\"Final Train QWK: {train_qwk:.4f}\")\n",
    "print(f\"Final Test QWK: {test_qwk:.4f}\")"
   ]
  },
  {
   "cell_type": "code",
   "execution_count": null,
   "metadata": {},
   "outputs": [],
   "source": [
    "# best iteration of loss is not representative of loss function!! \n",
    "model.best_iteration"
   ]
  },
  {
   "cell_type": "code",
   "execution_count": null,
   "metadata": {},
   "outputs": [],
   "source": [
    "model.get_fscore()"
   ]
  },
  {
   "cell_type": "markdown",
   "metadata": {},
   "source": [
    "# check outputs"
   ]
  },
  {
   "cell_type": "code",
   "execution_count": null,
   "metadata": {},
   "outputs": [],
   "source": [
    "dtrain.get_label()"
   ]
  },
  {
   "cell_type": "code",
   "execution_count": null,
   "metadata": {},
   "outputs": [],
   "source": [
    "X_testAnal = X_test.copy()\n",
    "X_testAnal['sii'] = y_test\n",
    "X_testAnal['pred'] = y_test_pred\n",
    "X_testAnal['tp'] = X_testAnal['sii'] == X_testAnal['pred']\n",
    "X_testAnal['fp'] = X_testAnal['sii'] != X_testAnal['pred']"
   ]
  },
  {
   "cell_type": "code",
   "execution_count": null,
   "metadata": {},
   "outputs": [],
   "source": [
    "X_testAnal['tp'].value_counts()"
   ]
  },
  {
   "cell_type": "code",
   "execution_count": null,
   "metadata": {},
   "outputs": [],
   "source": [
    "X_testAnal.groupby('tp')['sii'].hist()"
   ]
  },
  {
   "cell_type": "code",
   "execution_count": null,
   "metadata": {},
   "outputs": [],
   "source": [
    "X_trainAnal = X_train.copy()\n",
    "X_trainAnal['sii'] = y_train\n",
    "X_trainAnal['pred'] = y_train_pred\n",
    "X_trainAnal['tp'] = X_trainAnal['sii'] == X_trainAnal['pred']\n",
    "X_trainAnal['fp'] = X_trainAnal['sii'] != X_trainAnal['pred']\n",
    "X_trainAnal.groupby('tp')['sii'].hist()"
   ]
  },
  {
   "cell_type": "code",
   "execution_count": null,
   "metadata": {},
   "outputs": [],
   "source": []
  }
 ],
 "metadata": {
  "kernelspec": {
   "display_name": "base",
   "language": "python",
   "name": "python3"
  },
  "language_info": {
   "codemirror_mode": {
    "name": "ipython",
    "version": 3
   },
   "file_extension": ".py",
   "mimetype": "text/x-python",
   "name": "python",
   "nbconvert_exporter": "python",
   "pygments_lexer": "ipython3",
   "version": "3.11.5"
  }
 },
 "nbformat": 4,
 "nbformat_minor": 2
}
