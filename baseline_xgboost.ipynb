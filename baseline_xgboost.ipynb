{
 "cells": [
  {
   "cell_type": "code",
   "execution_count": null,
   "metadata": {},
   "outputs": [],
   "source": [
    "import numpy as np\n",
    "import pandas as pd\n",
    "from sklearn.model_selection import train_test_split\n",
    "from sklearn.metrics import cohen_kappa_score\n",
    "import xgboost as xgb"
   ]
  },
  {
   "cell_type": "code",
   "execution_count": null,
   "metadata": {},
   "outputs": [],
   "source": [
    "test = pd.read_csv('test.csv')\n",
    "feat = test.columns\n",
    "train = pd.read_csv('train.csv')\n",
    "train = train.loc[~train.sii.isna()]\n",
    "object_columns = train.select_dtypes(include=['object']).columns\n",
    "\n",
    "# Create a dictionary mapping object columns to 'category' dtype\n",
    "dtype_dict = {col: 'category' for col in object_columns}\n",
    "\n",
    "# Convert object columns to categorical\n",
    "train = train.astype(dtype_dict)\n",
    "train.dtypes"
   ]
  },
  {
   "cell_type": "code",
   "execution_count": null,
   "metadata": {},
   "outputs": [],
   "source": [
    "# Assuming you have your data in X (features) and y (target)\n",
    "X = train[feat]\n",
    "y = train['sii']\n",
    "\n",
    "# Split the data\n",
    "X_train, X_test, y_train, y_test = train_test_split(X, y, test_size=0.2, random_state=42)\n",
    "\n",
    "# Define quadratic weighted kappa objective function\n",
    "def qwk_objective(y_true, y_pred):\n",
    "    y_pred = y_pred.reshape(len(y_pred), -1)\n",
    "    y_pred = np.argmax(y_pred, axis=1)\n",
    "    kappa = cohen_kappa_score(y_true, y_pred, weights='quadratic')\n",
    "    return 'qwk', -kappa  # Negative because XGBoost minimizes the objective\n",
    "\n",
    "# Define evaluation metric\n",
    "def qwk_metric(y_true, y_pred):\n",
    "    y_pred = y_pred.reshape(len(y_pred), -1)\n",
    "    y_pred = np.argmax(y_pred, axis=1)\n",
    "    return 'qwk', cohen_kappa_score(y_true, y_pred, weights='quadratic')\n",
    "\n",
    "# Convert data to DMatrix format\n",
    "dtrain = xgb.DMatrix(X_train, label=y_train,enable_categorical=True)\n",
    "dtest = xgb.DMatrix(X_test, label=y_test,enable_categorical=True)\n",
    "\n",
    "# Set XGBoost parameters\n",
    "params = {\n",
    "    'max_depth': 3,\n",
    "    'eta': 0.1,\n",
    "    'subsample':0.2,\n",
    "    'objective': 'multi:softprob',#qwk_objective,\n",
    "    'num_class': len(np.unique(y)),  # number of classes\n",
    "    'eval_metric': 'mlogloss'#qwk_metric\n",
    "}\n",
    "\n",
    "# Train the model\n",
    "num_rounds = 200\n",
    "watchlist = [(dtrain, 'train'), (dtest, 'test')]\n",
    "model = xgb.train(params, dtrain, num_rounds, watchlist, early_stopping_rounds=50, verbose_eval=2)\n",
    "\n",
    "# Make predictions\n",
    "y_train_pred = model.predict(dtrain)\n",
    "y_test_pred = model.predict(dtest)\n",
    "\n",
    "# Convert predictions to class labels\n",
    "y_train_pred = np.argmax(y_train_pred, axis=1)\n",
    "y_test_pred = np.argmax(y_test_pred, axis=1)\n",
    "\n",
    "# Evaluate final performance\n",
    "train_qwk = cohen_kappa_score(y_train, y_train_pred, weights='quadratic')\n",
    "test_qwk = cohen_kappa_score(y_test, y_test_pred, weights='quadratic')\n",
    "\n",
    "print(f\"Final Train QWK: {train_qwk:.4f}\")\n",
    "print(f\"Final Test QWK: {test_qwk:.4f}\")"
   ]
  },
  {
   "cell_type": "code",
   "execution_count": null,
   "metadata": {},
   "outputs": [],
   "source": []
  }
 ],
 "metadata": {
  "kernelspec": {
   "display_name": "base",
   "language": "python",
   "name": "python3"
  },
  "language_info": {
   "codemirror_mode": {
    "name": "ipython",
    "version": 3
   },
   "file_extension": ".py",
   "mimetype": "text/x-python",
   "name": "python",
   "nbconvert_exporter": "python",
   "pygments_lexer": "ipython3",
   "version": "3.11.5"
  }
 },
 "nbformat": 4,
 "nbformat_minor": 2
}
